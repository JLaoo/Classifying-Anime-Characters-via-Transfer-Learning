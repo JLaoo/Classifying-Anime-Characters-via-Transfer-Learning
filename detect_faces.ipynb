{
 "cells": [
  {
   "cell_type": "code",
   "execution_count": 3,
   "metadata": {},
   "outputs": [],
   "source": [
    "import cv2\n",
    "import sys\n",
    "import os.path"
   ]
  },
  {
   "cell_type": "code",
   "execution_count": 30,
   "metadata": {},
   "outputs": [],
   "source": [
    "#create folders\n",
    "if not os.path.exists('images/cropped'):\n",
    "    os.makedirs('images/cropped')\n",
    "folder_names = ['ahagon_umiko', 'hazuki_shizuku', 'lijima_yun', 'sakura_nene', 'suzukaze_aoba', 'takimoto_hifumi', 'toyama_rin', 'yagami_kou']\n",
    "for name in folder_names:\n",
    "    if not os.path.exists('images/cropped/'+str(name)):\n",
    "        os.makedirs('images/cropped/'+str(name))"
   ]
  },
  {
   "cell_type": "code",
   "execution_count": 31,
   "metadata": {},
   "outputs": [],
   "source": [
    "#function to detect, crop, and save faces\n",
    "def detect(save_as, filename, cascade_file = \"lbpcascade_animeface.xml\"):\n",
    "    if not os.path.isfile(cascade_file):\n",
    "        raise RuntimeError(\"%s: not found\" % cascade_file)\n",
    "\n",
    "    cascade = cv2.CascadeClassifier(cascade_file)\n",
    "    image = cv2.imread(filename, cv2.IMREAD_COLOR)\n",
    "    if image is not None:\n",
    "        gray = cv2.cvtColor(image, cv2.COLOR_BGR2GRAY)\n",
    "        gray = cv2.equalizeHist(gray)\n",
    "\n",
    "        faces = cascade.detectMultiScale(gray,\n",
    "                                         # detector options\n",
    "                                         scaleFactor = 1.1,\n",
    "                                         minNeighbors = 5,\n",
    "                                         minSize = (24, 24))\n",
    "        for (x, y, w, h) in faces:\n",
    "            crop_img = image[y:y+h, x:x+w]\n",
    "            cv2.imwrite(save_as, crop_img)"
   ]
  },
  {
   "cell_type": "code",
   "execution_count": 32,
   "metadata": {},
   "outputs": [],
   "source": [
    "#use detect to crop and save images\n",
    "dir_names = ['ahagon_umiko', 'hazuki_shizuku', 'lijima_yun', 'sakura_nene', 'suzukaze_aoba', 'takimoto_hifumi', 'toyama_rin', 'yagami_kou']\n",
    "for dir_name in dir_names:\n",
    "    rootdir = 'images/raw/'+dir_name\n",
    "    for subdir, dirs, files in os.walk(rootdir):\n",
    "        for file in files:\n",
    "            detect('images/cropped/'+dir_name+'/'+str(file), os.path.join(subdir, file))"
   ]
  }
 ],
 "metadata": {
  "kernelspec": {
   "display_name": "Python 3",
   "language": "python",
   "name": "python3"
  },
  "language_info": {
   "codemirror_mode": {
    "name": "ipython",
    "version": 3
   },
   "file_extension": ".py",
   "mimetype": "text/x-python",
   "name": "python",
   "nbconvert_exporter": "python",
   "pygments_lexer": "ipython3",
   "version": "3.6.5"
  }
 },
 "nbformat": 4,
 "nbformat_minor": 2
}
