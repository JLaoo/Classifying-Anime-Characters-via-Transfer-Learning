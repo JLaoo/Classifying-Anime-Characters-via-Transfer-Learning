{
 "cells": [
  {
   "cell_type": "code",
   "execution_count": 52,
   "metadata": {},
   "outputs": [],
   "source": [
    "import os\n",
    "import cv2\n",
    "import numpy as np"
   ]
  },
  {
   "cell_type": "code",
   "execution_count": 76,
   "metadata": {},
   "outputs": [],
   "source": [
    "#create training and test folders\n",
    "folder_names = ['ahagon_umiko', 'hazuki_shizuku', 'lijima_yun', 'sakura_nene', 'suzukaze_aoba', 'takimoto_hifumi', 'toyama_rin', 'yagami_kou']\n",
    "if not os.path.exists('images/train_set'):\n",
    "    os.makedirs('images/train_set')\n",
    "for name in folder_names:\n",
    "    if not os.path.exists('images/train_set/'+str(name)):\n",
    "        os.makedirs('images/train_set/'+str(name))\n",
    "if not os.path.exists('images/test_set'):\n",
    "    os.makedirs('images/test_set')\n",
    "for name in folder_names:\n",
    "    if not os.path.exists('images/test_set/'+str(name)):\n",
    "        os.makedirs('images/test_set/'+str(name))"
   ]
  },
  {
   "cell_type": "code",
   "execution_count": 81,
   "metadata": {},
   "outputs": [],
   "source": [
    "#determine test set size\n",
    "folder_names = ['ahagon_umiko', 'hazuki_shizuku', 'lijima_yun', 'sakura_nene', 'suzukaze_aoba', 'takimoto_hifumi', 'toyama_rin', 'yagami_kou']\n",
    "num_files = []\n",
    "for i in np.arange(8):\n",
    "    folder_size = len(next(os.walk('./images/cleaned_resized/'+folder_names[i]))[2]) - 1\n",
    "    num_files.append(folder_size)\n",
    "train_size = [int(0.85 * x) for x in num_files]"
   ]
  },
  {
   "cell_type": "code",
   "execution_count": 78,
   "metadata": {},
   "outputs": [],
   "source": [
    "#define function to resave images in specified path\n",
    "def resave(save_as, path):\n",
    "    image = cv2.imread(path)\n",
    "    if image is not None:\n",
    "        cv2.imwrite(save_as, image)"
   ]
  },
  {
   "cell_type": "code",
   "execution_count": 79,
   "metadata": {},
   "outputs": [],
   "source": [
    "#populate test and train folders\n",
    "for i in np.arange(len(folder_names)):\n",
    "    rootdir = 'images/cleaned_resized/'+folder_names[i]\n",
    "    img_count = 0\n",
    "    for subdir, dirs, files in os.walk(rootdir):\n",
    "        for file in files:\n",
    "            if img_count < train_size[i]:\n",
    "                resave('images/train_set/'+folder_names[i]+'/'+str(file), os.path.join(subdir, file))\n",
    "            else:\n",
    "                resave('images/test_set/'+folder_names[i]+'/'+str(file), os.path.join(subdir, file))\n",
    "            img_count += 1"
   ]
  }
 ],
 "metadata": {
  "kernelspec": {
   "display_name": "Python 3",
   "language": "python",
   "name": "python3"
  },
  "language_info": {
   "codemirror_mode": {
    "name": "ipython",
    "version": 3
   },
   "file_extension": ".py",
   "mimetype": "text/x-python",
   "name": "python",
   "nbconvert_exporter": "python",
   "pygments_lexer": "ipython3",
   "version": "3.6.5"
  }
 },
 "nbformat": 4,
 "nbformat_minor": 2
}
