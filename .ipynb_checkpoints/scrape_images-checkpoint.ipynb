{
 "cells": [
  {
   "cell_type": "code",
   "execution_count": 47,
   "metadata": {},
   "outputs": [],
   "source": [
    "import os\n",
    "import requests\n",
    "import shutil\n",
    "import numpy as np\n",
    "import pandas as pd\n",
    "from lxml import html"
   ]
  },
  {
   "cell_type": "code",
   "execution_count": 60,
   "metadata": {},
   "outputs": [],
   "source": [
    "#make image folders\n",
    "if not os.path.exists('images'):\n",
    "    os.makedirs('images')\n",
    "if not os.path.exists('images/raw'):\n",
    "    os.makedirs('images/raw')\n",
    "folder_names = ['ahagon_umiko', 'hazuki_shizuku', 'lijima_yun', 'sakura_nene', 'suzukaze_aoba', 'takimoto_hifumi', 'toyama_rin', 'yagami_kou']\n",
    "for name in folder_names:\n",
    "    if not os.path.exists('images/raw/'+str(name)):\n",
    "        os.makedirs('images/raw/'+str(name))"
   ]
  },
  {
   "cell_type": "code",
   "execution_count": 30,
   "metadata": {},
   "outputs": [],
   "source": [
    "#scraping locations of images from safebooru\n",
    "pages = [0, 40, 80]\n",
    "hifumi_base = 'https://safebooru.org/index.php?page=post&s=list&tags=takimoto_hifumi+sort%3Ascore+-animated&pid='\n",
    "kou_base = 'https://safebooru.org/index.php?page=post&s=list&tags=yagami_kou+sort%3Ascore+-animated&pid='\n",
    "aoba_base = 'https://safebooru.org/index.php?page=post&s=list&tags=suzukaze_aoba+sort%3Ascore+-animated&pid='\n",
    "umiko_base = 'https://safebooru.org/index.php?page=post&s=list&tags=ahagon_umiko+sort%3Ascore+-animated&pid='\n",
    "shizuku_base = 'https://safebooru.org/index.php?page=post&s=list&tags=hazuki_shizuku+sort%3ascore+-animated&pid='\n",
    "nene_base = 'https://safebooru.org/index.php?page=post&s=list&tags=sakura_nene+sort%3Ascore+-animated&pid='\n",
    "rin_base = 'https://safebooru.org/index.php?page=post&s=list&tags=tooyama_rin+sort%3Ascore+-animated&pid='\n",
    "yun_base = 'https://safebooru.org/index.php?page=post&s=list&tags=iijima_yun+sort%3Ascore+-animated&pid='\n",
    "base_lst = [hifumi_base, kou_base, aoba_base, umiko_base, shizuku_base, nene_base, rin_base, yun_base]\n",
    "location_urls = [[] for x in range(8)]\n",
    "current_waifu = 0\n",
    "for base in base_lst:\n",
    "    for page in pages:\n",
    "        url = base+str(page)\n",
    "        page = requests.get(url)\n",
    "        tree = html.fromstring(page.content)\n",
    "        for href in tree.xpath('//a/@href'):\n",
    "            if len(href) > 30 and href[:30] == 'index.php?page=post&s=view&id=':\n",
    "                location_urls[current_waifu].append('https://safebooru.org/index.php?page=post&s=view&id='+href[30:])\n",
    "    current_waifu += 1"
   ]
  },
  {
   "cell_type": "code",
   "execution_count": 54,
   "metadata": {},
   "outputs": [],
   "source": [
    "#downloading images\n",
    "img_urls = [[] for x in range(8)]\n",
    "hifumi_count, kou_count, aoba_count, umiko_count, shizuku_count, nene_count, rin_count, yun_count = 0, 0, 0, 0, 0, 0, 0, 0\n",
    "for i in np.arange(8):\n",
    "    for loc in location_urls[i]:\n",
    "        page = requests.get(loc)\n",
    "        tree = html.fromstring(page.content)\n",
    "        img = 'http:'+tree.xpath('//*[@id=\"image\"]/@src')[0]\n",
    "        pic_request = requests.get(img)\n",
    "        response = requests.get(img, stream=True)\n",
    "        if i == 0:\n",
    "            with open('images/raw/takimoto_hifumi/'+str(hifumi_count)+'.jpg' , 'wb') as out_file:\n",
    "                shutil.copyfileobj(response.raw, out_file)\n",
    "            del response\n",
    "            hifumi_count += 1\n",
    "        elif i == 1:\n",
    "            with open('images/raw/yagami_kou/'+str(kou_count)+'.jpg', 'wb') as out_file:\n",
    "                shutil.copyfileobj(response.raw, out_file)\n",
    "            del response\n",
    "            kou_count += 1\n",
    "        elif i == 2:\n",
    "            with open('images/raw/suzukaze_aoba/'+str(aoba_count)+'.jpg', 'wb') as out_file:\n",
    "                shutil.copyfileobj(response.raw, out_file)\n",
    "            del response\n",
    "            aoba_count += 1\n",
    "        elif i == 3:\n",
    "            with open('images/raw/ahagon_umiko/'+str(umiko_count)+'.jpg', 'wb') as out_file:\n",
    "                shutil.copyfileobj(response.raw, out_file)\n",
    "            del response\n",
    "            umiko_count += 1\n",
    "        elif i == 4:\n",
    "            with open('images/raw/hazuki_shizuku/'+str(shizuku_count)+'.jpg', 'wb') as out_file:\n",
    "                shutil.copyfileobj(response.raw, out_file)\n",
    "            del response\n",
    "            shizuku_count += 1\n",
    "        elif i == 5:\n",
    "            with open('images/raw/sakura_nene/'+str(nene_count)+'.jpg', 'wb') as out_file:\n",
    "                shutil.copyfileobj(response.raw, out_file)\n",
    "            del response\n",
    "            nene_count += 1\n",
    "        elif i == 6:\n",
    "            with open('images/raw/toyama_rin/'+str(rin_count)+'.jpg', 'wb') as out_file:\n",
    "                shutil.copyfileobj(response.raw, out_file)\n",
    "            del response\n",
    "            rin_count += 1\n",
    "        else:\n",
    "            with open('images/raw/lijima_yun/'+str(yun_count)+'.jpg', 'wb') as out_file:\n",
    "                shutil.copyfileobj(response.raw, out_file)\n",
    "            del response\n",
    "            yun_count += 1"
   ]
  }
 ],
 "metadata": {
  "kernelspec": {
   "display_name": "Python 3",
   "language": "python",
   "name": "python3"
  },
  "language_info": {
   "codemirror_mode": {
    "name": "ipython",
    "version": 3
   },
   "file_extension": ".py",
   "mimetype": "text/x-python",
   "name": "python",
   "nbconvert_exporter": "python",
   "pygments_lexer": "ipython3",
   "version": "3.6.5"
  }
 },
 "nbformat": 4,
 "nbformat_minor": 2
}
